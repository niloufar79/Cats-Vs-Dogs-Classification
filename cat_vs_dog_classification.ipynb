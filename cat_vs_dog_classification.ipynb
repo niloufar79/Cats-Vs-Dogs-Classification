{
  "nbformat": 4,
  "nbformat_minor": 0,
  "metadata": {
    "colab": {
      "name": "cat_vs_dog_classification.ipynb",
      "provenance": [],
      "collapsed_sections": []
    },
    "kernelspec": {
      "name": "python3",
      "display_name": "Python 3"
    },
    "language_info": {
      "name": "python"
    },
    "gpuClass": "standard",
    "widgets": {
      "application/vnd.jupyter.widget-state+json": {
        "9281540935d14d46a3e196662a34ec59": {
          "model_module": "@jupyter-widgets/controls",
          "model_name": "HBoxModel",
          "model_module_version": "1.5.0",
          "state": {
            "_dom_classes": [],
            "_model_module": "@jupyter-widgets/controls",
            "_model_module_version": "1.5.0",
            "_model_name": "HBoxModel",
            "_view_count": null,
            "_view_module": "@jupyter-widgets/controls",
            "_view_module_version": "1.5.0",
            "_view_name": "HBoxView",
            "box_style": "",
            "children": [
              "IPY_MODEL_310b9cca27b44af08fd7760ed4c0975d",
              "IPY_MODEL_cd2c03a770224760980c7b16c9d41eca",
              "IPY_MODEL_2242fa33665c4aad8896495c5b815a16"
            ],
            "layout": "IPY_MODEL_a60386b06e8a403bb94e9408b3a49943"
          }
        },
        "310b9cca27b44af08fd7760ed4c0975d": {
          "model_module": "@jupyter-widgets/controls",
          "model_name": "HTMLModel",
          "model_module_version": "1.5.0",
          "state": {
            "_dom_classes": [],
            "_model_module": "@jupyter-widgets/controls",
            "_model_module_version": "1.5.0",
            "_model_name": "HTMLModel",
            "_view_count": null,
            "_view_module": "@jupyter-widgets/controls",
            "_view_module_version": "1.5.0",
            "_view_name": "HTMLView",
            "description": "",
            "description_tooltip": null,
            "layout": "IPY_MODEL_4ff30ef9cf264a46b03cf2e585937d8c",
            "placeholder": "​",
            "style": "IPY_MODEL_c374466b51da4322aeae3034d2d7a697",
            "value": "100%"
          }
        },
        "cd2c03a770224760980c7b16c9d41eca": {
          "model_module": "@jupyter-widgets/controls",
          "model_name": "FloatProgressModel",
          "model_module_version": "1.5.0",
          "state": {
            "_dom_classes": [],
            "_model_module": "@jupyter-widgets/controls",
            "_model_module_version": "1.5.0",
            "_model_name": "FloatProgressModel",
            "_view_count": null,
            "_view_module": "@jupyter-widgets/controls",
            "_view_module_version": "1.5.0",
            "_view_name": "ProgressView",
            "bar_style": "success",
            "description": "",
            "description_tooltip": null,
            "layout": "IPY_MODEL_986fcf894bfd458f96474cd5b6fe0e76",
            "max": 22500,
            "min": 0,
            "orientation": "horizontal",
            "style": "IPY_MODEL_df0c5e53d2094e3fa470576de277bfcf",
            "value": 22500
          }
        },
        "2242fa33665c4aad8896495c5b815a16": {
          "model_module": "@jupyter-widgets/controls",
          "model_name": "HTMLModel",
          "model_module_version": "1.5.0",
          "state": {
            "_dom_classes": [],
            "_model_module": "@jupyter-widgets/controls",
            "_model_module_version": "1.5.0",
            "_model_name": "HTMLModel",
            "_view_count": null,
            "_view_module": "@jupyter-widgets/controls",
            "_view_module_version": "1.5.0",
            "_view_name": "HTMLView",
            "description": "",
            "description_tooltip": null,
            "layout": "IPY_MODEL_1d1d0c08b3724f16a55970d6b7ce844d",
            "placeholder": "​",
            "style": "IPY_MODEL_0740b2fed2d246d9bef82dfe596e71a7",
            "value": " 22500/22500 [00:02&lt;00:00, 7007.69it/s]"
          }
        },
        "a60386b06e8a403bb94e9408b3a49943": {
          "model_module": "@jupyter-widgets/base",
          "model_name": "LayoutModel",
          "model_module_version": "1.2.0",
          "state": {
            "_model_module": "@jupyter-widgets/base",
            "_model_module_version": "1.2.0",
            "_model_name": "LayoutModel",
            "_view_count": null,
            "_view_module": "@jupyter-widgets/base",
            "_view_module_version": "1.2.0",
            "_view_name": "LayoutView",
            "align_content": null,
            "align_items": null,
            "align_self": null,
            "border": null,
            "bottom": null,
            "display": null,
            "flex": null,
            "flex_flow": null,
            "grid_area": null,
            "grid_auto_columns": null,
            "grid_auto_flow": null,
            "grid_auto_rows": null,
            "grid_column": null,
            "grid_gap": null,
            "grid_row": null,
            "grid_template_areas": null,
            "grid_template_columns": null,
            "grid_template_rows": null,
            "height": null,
            "justify_content": null,
            "justify_items": null,
            "left": null,
            "margin": null,
            "max_height": null,
            "max_width": null,
            "min_height": null,
            "min_width": null,
            "object_fit": null,
            "object_position": null,
            "order": null,
            "overflow": null,
            "overflow_x": null,
            "overflow_y": null,
            "padding": null,
            "right": null,
            "top": null,
            "visibility": null,
            "width": null
          }
        },
        "4ff30ef9cf264a46b03cf2e585937d8c": {
          "model_module": "@jupyter-widgets/base",
          "model_name": "LayoutModel",
          "model_module_version": "1.2.0",
          "state": {
            "_model_module": "@jupyter-widgets/base",
            "_model_module_version": "1.2.0",
            "_model_name": "LayoutModel",
            "_view_count": null,
            "_view_module": "@jupyter-widgets/base",
            "_view_module_version": "1.2.0",
            "_view_name": "LayoutView",
            "align_content": null,
            "align_items": null,
            "align_self": null,
            "border": null,
            "bottom": null,
            "display": null,
            "flex": null,
            "flex_flow": null,
            "grid_area": null,
            "grid_auto_columns": null,
            "grid_auto_flow": null,
            "grid_auto_rows": null,
            "grid_column": null,
            "grid_gap": null,
            "grid_row": null,
            "grid_template_areas": null,
            "grid_template_columns": null,
            "grid_template_rows": null,
            "height": null,
            "justify_content": null,
            "justify_items": null,
            "left": null,
            "margin": null,
            "max_height": null,
            "max_width": null,
            "min_height": null,
            "min_width": null,
            "object_fit": null,
            "object_position": null,
            "order": null,
            "overflow": null,
            "overflow_x": null,
            "overflow_y": null,
            "padding": null,
            "right": null,
            "top": null,
            "visibility": null,
            "width": null
          }
        },
        "c374466b51da4322aeae3034d2d7a697": {
          "model_module": "@jupyter-widgets/controls",
          "model_name": "DescriptionStyleModel",
          "model_module_version": "1.5.0",
          "state": {
            "_model_module": "@jupyter-widgets/controls",
            "_model_module_version": "1.5.0",
            "_model_name": "DescriptionStyleModel",
            "_view_count": null,
            "_view_module": "@jupyter-widgets/base",
            "_view_module_version": "1.2.0",
            "_view_name": "StyleView",
            "description_width": ""
          }
        },
        "986fcf894bfd458f96474cd5b6fe0e76": {
          "model_module": "@jupyter-widgets/base",
          "model_name": "LayoutModel",
          "model_module_version": "1.2.0",
          "state": {
            "_model_module": "@jupyter-widgets/base",
            "_model_module_version": "1.2.0",
            "_model_name": "LayoutModel",
            "_view_count": null,
            "_view_module": "@jupyter-widgets/base",
            "_view_module_version": "1.2.0",
            "_view_name": "LayoutView",
            "align_content": null,
            "align_items": null,
            "align_self": null,
            "border": null,
            "bottom": null,
            "display": null,
            "flex": null,
            "flex_flow": null,
            "grid_area": null,
            "grid_auto_columns": null,
            "grid_auto_flow": null,
            "grid_auto_rows": null,
            "grid_column": null,
            "grid_gap": null,
            "grid_row": null,
            "grid_template_areas": null,
            "grid_template_columns": null,
            "grid_template_rows": null,
            "height": null,
            "justify_content": null,
            "justify_items": null,
            "left": null,
            "margin": null,
            "max_height": null,
            "max_width": null,
            "min_height": null,
            "min_width": null,
            "object_fit": null,
            "object_position": null,
            "order": null,
            "overflow": null,
            "overflow_x": null,
            "overflow_y": null,
            "padding": null,
            "right": null,
            "top": null,
            "visibility": null,
            "width": null
          }
        },
        "df0c5e53d2094e3fa470576de277bfcf": {
          "model_module": "@jupyter-widgets/controls",
          "model_name": "ProgressStyleModel",
          "model_module_version": "1.5.0",
          "state": {
            "_model_module": "@jupyter-widgets/controls",
            "_model_module_version": "1.5.0",
            "_model_name": "ProgressStyleModel",
            "_view_count": null,
            "_view_module": "@jupyter-widgets/base",
            "_view_module_version": "1.2.0",
            "_view_name": "StyleView",
            "bar_color": null,
            "description_width": ""
          }
        },
        "1d1d0c08b3724f16a55970d6b7ce844d": {
          "model_module": "@jupyter-widgets/base",
          "model_name": "LayoutModel",
          "model_module_version": "1.2.0",
          "state": {
            "_model_module": "@jupyter-widgets/base",
            "_model_module_version": "1.2.0",
            "_model_name": "LayoutModel",
            "_view_count": null,
            "_view_module": "@jupyter-widgets/base",
            "_view_module_version": "1.2.0",
            "_view_name": "LayoutView",
            "align_content": null,
            "align_items": null,
            "align_self": null,
            "border": null,
            "bottom": null,
            "display": null,
            "flex": null,
            "flex_flow": null,
            "grid_area": null,
            "grid_auto_columns": null,
            "grid_auto_flow": null,
            "grid_auto_rows": null,
            "grid_column": null,
            "grid_gap": null,
            "grid_row": null,
            "grid_template_areas": null,
            "grid_template_columns": null,
            "grid_template_rows": null,
            "height": null,
            "justify_content": null,
            "justify_items": null,
            "left": null,
            "margin": null,
            "max_height": null,
            "max_width": null,
            "min_height": null,
            "min_width": null,
            "object_fit": null,
            "object_position": null,
            "order": null,
            "overflow": null,
            "overflow_x": null,
            "overflow_y": null,
            "padding": null,
            "right": null,
            "top": null,
            "visibility": null,
            "width": null
          }
        },
        "0740b2fed2d246d9bef82dfe596e71a7": {
          "model_module": "@jupyter-widgets/controls",
          "model_name": "DescriptionStyleModel",
          "model_module_version": "1.5.0",
          "state": {
            "_model_module": "@jupyter-widgets/controls",
            "_model_module_version": "1.5.0",
            "_model_name": "DescriptionStyleModel",
            "_view_count": null,
            "_view_module": "@jupyter-widgets/base",
            "_view_module_version": "1.2.0",
            "_view_name": "StyleView",
            "description_width": ""
          }
        },
        "bb129ae1bdd947948c3b0c51cfd11542": {
          "model_module": "@jupyter-widgets/controls",
          "model_name": "HBoxModel",
          "model_module_version": "1.5.0",
          "state": {
            "_dom_classes": [],
            "_model_module": "@jupyter-widgets/controls",
            "_model_module_version": "1.5.0",
            "_model_name": "HBoxModel",
            "_view_count": null,
            "_view_module": "@jupyter-widgets/controls",
            "_view_module_version": "1.5.0",
            "_view_name": "HBoxView",
            "box_style": "",
            "children": [
              "IPY_MODEL_8c693ece91c14edc9751f4ba2fa575f4",
              "IPY_MODEL_686462593eab49d38965997e4760a813",
              "IPY_MODEL_4834d0670e4441e786593e68eb2c7062"
            ],
            "layout": "IPY_MODEL_e0fd89e0456c46398f4e280c9c17834a"
          }
        },
        "8c693ece91c14edc9751f4ba2fa575f4": {
          "model_module": "@jupyter-widgets/controls",
          "model_name": "HTMLModel",
          "model_module_version": "1.5.0",
          "state": {
            "_dom_classes": [],
            "_model_module": "@jupyter-widgets/controls",
            "_model_module_version": "1.5.0",
            "_model_name": "HTMLModel",
            "_view_count": null,
            "_view_module": "@jupyter-widgets/controls",
            "_view_module_version": "1.5.0",
            "_view_name": "HTMLView",
            "description": "",
            "description_tooltip": null,
            "layout": "IPY_MODEL_de353e6e3b19428090560e8ae06d2875",
            "placeholder": "​",
            "style": "IPY_MODEL_e7f6653acd4f452995f3563fd00af851",
            "value": "100%"
          }
        },
        "686462593eab49d38965997e4760a813": {
          "model_module": "@jupyter-widgets/controls",
          "model_name": "FloatProgressModel",
          "model_module_version": "1.5.0",
          "state": {
            "_dom_classes": [],
            "_model_module": "@jupyter-widgets/controls",
            "_model_module_version": "1.5.0",
            "_model_name": "FloatProgressModel",
            "_view_count": null,
            "_view_module": "@jupyter-widgets/controls",
            "_view_module_version": "1.5.0",
            "_view_name": "ProgressView",
            "bar_style": "success",
            "description": "",
            "description_tooltip": null,
            "layout": "IPY_MODEL_ef21db93143946008f4b2adaa00b2802",
            "max": 2500,
            "min": 0,
            "orientation": "horizontal",
            "style": "IPY_MODEL_712bd63b9e45456e899a41d46a321450",
            "value": 2500
          }
        },
        "4834d0670e4441e786593e68eb2c7062": {
          "model_module": "@jupyter-widgets/controls",
          "model_name": "HTMLModel",
          "model_module_version": "1.5.0",
          "state": {
            "_dom_classes": [],
            "_model_module": "@jupyter-widgets/controls",
            "_model_module_version": "1.5.0",
            "_model_name": "HTMLModel",
            "_view_count": null,
            "_view_module": "@jupyter-widgets/controls",
            "_view_module_version": "1.5.0",
            "_view_name": "HTMLView",
            "description": "",
            "description_tooltip": null,
            "layout": "IPY_MODEL_6df81e0350eb4af4bd051dcb17a20218",
            "placeholder": "​",
            "style": "IPY_MODEL_9e6971844772480e80431d43cf0426a9",
            "value": " 2500/2500 [00:00&lt;00:00, 7872.70it/s]"
          }
        },
        "e0fd89e0456c46398f4e280c9c17834a": {
          "model_module": "@jupyter-widgets/base",
          "model_name": "LayoutModel",
          "model_module_version": "1.2.0",
          "state": {
            "_model_module": "@jupyter-widgets/base",
            "_model_module_version": "1.2.0",
            "_model_name": "LayoutModel",
            "_view_count": null,
            "_view_module": "@jupyter-widgets/base",
            "_view_module_version": "1.2.0",
            "_view_name": "LayoutView",
            "align_content": null,
            "align_items": null,
            "align_self": null,
            "border": null,
            "bottom": null,
            "display": null,
            "flex": null,
            "flex_flow": null,
            "grid_area": null,
            "grid_auto_columns": null,
            "grid_auto_flow": null,
            "grid_auto_rows": null,
            "grid_column": null,
            "grid_gap": null,
            "grid_row": null,
            "grid_template_areas": null,
            "grid_template_columns": null,
            "grid_template_rows": null,
            "height": null,
            "justify_content": null,
            "justify_items": null,
            "left": null,
            "margin": null,
            "max_height": null,
            "max_width": null,
            "min_height": null,
            "min_width": null,
            "object_fit": null,
            "object_position": null,
            "order": null,
            "overflow": null,
            "overflow_x": null,
            "overflow_y": null,
            "padding": null,
            "right": null,
            "top": null,
            "visibility": null,
            "width": null
          }
        },
        "de353e6e3b19428090560e8ae06d2875": {
          "model_module": "@jupyter-widgets/base",
          "model_name": "LayoutModel",
          "model_module_version": "1.2.0",
          "state": {
            "_model_module": "@jupyter-widgets/base",
            "_model_module_version": "1.2.0",
            "_model_name": "LayoutModel",
            "_view_count": null,
            "_view_module": "@jupyter-widgets/base",
            "_view_module_version": "1.2.0",
            "_view_name": "LayoutView",
            "align_content": null,
            "align_items": null,
            "align_self": null,
            "border": null,
            "bottom": null,
            "display": null,
            "flex": null,
            "flex_flow": null,
            "grid_area": null,
            "grid_auto_columns": null,
            "grid_auto_flow": null,
            "grid_auto_rows": null,
            "grid_column": null,
            "grid_gap": null,
            "grid_row": null,
            "grid_template_areas": null,
            "grid_template_columns": null,
            "grid_template_rows": null,
            "height": null,
            "justify_content": null,
            "justify_items": null,
            "left": null,
            "margin": null,
            "max_height": null,
            "max_width": null,
            "min_height": null,
            "min_width": null,
            "object_fit": null,
            "object_position": null,
            "order": null,
            "overflow": null,
            "overflow_x": null,
            "overflow_y": null,
            "padding": null,
            "right": null,
            "top": null,
            "visibility": null,
            "width": null
          }
        },
        "e7f6653acd4f452995f3563fd00af851": {
          "model_module": "@jupyter-widgets/controls",
          "model_name": "DescriptionStyleModel",
          "model_module_version": "1.5.0",
          "state": {
            "_model_module": "@jupyter-widgets/controls",
            "_model_module_version": "1.5.0",
            "_model_name": "DescriptionStyleModel",
            "_view_count": null,
            "_view_module": "@jupyter-widgets/base",
            "_view_module_version": "1.2.0",
            "_view_name": "StyleView",
            "description_width": ""
          }
        },
        "ef21db93143946008f4b2adaa00b2802": {
          "model_module": "@jupyter-widgets/base",
          "model_name": "LayoutModel",
          "model_module_version": "1.2.0",
          "state": {
            "_model_module": "@jupyter-widgets/base",
            "_model_module_version": "1.2.0",
            "_model_name": "LayoutModel",
            "_view_count": null,
            "_view_module": "@jupyter-widgets/base",
            "_view_module_version": "1.2.0",
            "_view_name": "LayoutView",
            "align_content": null,
            "align_items": null,
            "align_self": null,
            "border": null,
            "bottom": null,
            "display": null,
            "flex": null,
            "flex_flow": null,
            "grid_area": null,
            "grid_auto_columns": null,
            "grid_auto_flow": null,
            "grid_auto_rows": null,
            "grid_column": null,
            "grid_gap": null,
            "grid_row": null,
            "grid_template_areas": null,
            "grid_template_columns": null,
            "grid_template_rows": null,
            "height": null,
            "justify_content": null,
            "justify_items": null,
            "left": null,
            "margin": null,
            "max_height": null,
            "max_width": null,
            "min_height": null,
            "min_width": null,
            "object_fit": null,
            "object_position": null,
            "order": null,
            "overflow": null,
            "overflow_x": null,
            "overflow_y": null,
            "padding": null,
            "right": null,
            "top": null,
            "visibility": null,
            "width": null
          }
        },
        "712bd63b9e45456e899a41d46a321450": {
          "model_module": "@jupyter-widgets/controls",
          "model_name": "ProgressStyleModel",
          "model_module_version": "1.5.0",
          "state": {
            "_model_module": "@jupyter-widgets/controls",
            "_model_module_version": "1.5.0",
            "_model_name": "ProgressStyleModel",
            "_view_count": null,
            "_view_module": "@jupyter-widgets/base",
            "_view_module_version": "1.2.0",
            "_view_name": "StyleView",
            "bar_color": null,
            "description_width": ""
          }
        },
        "6df81e0350eb4af4bd051dcb17a20218": {
          "model_module": "@jupyter-widgets/base",
          "model_name": "LayoutModel",
          "model_module_version": "1.2.0",
          "state": {
            "_model_module": "@jupyter-widgets/base",
            "_model_module_version": "1.2.0",
            "_model_name": "LayoutModel",
            "_view_count": null,
            "_view_module": "@jupyter-widgets/base",
            "_view_module_version": "1.2.0",
            "_view_name": "LayoutView",
            "align_content": null,
            "align_items": null,
            "align_self": null,
            "border": null,
            "bottom": null,
            "display": null,
            "flex": null,
            "flex_flow": null,
            "grid_area": null,
            "grid_auto_columns": null,
            "grid_auto_flow": null,
            "grid_auto_rows": null,
            "grid_column": null,
            "grid_gap": null,
            "grid_row": null,
            "grid_template_areas": null,
            "grid_template_columns": null,
            "grid_template_rows": null,
            "height": null,
            "justify_content": null,
            "justify_items": null,
            "left": null,
            "margin": null,
            "max_height": null,
            "max_width": null,
            "min_height": null,
            "min_width": null,
            "object_fit": null,
            "object_position": null,
            "order": null,
            "overflow": null,
            "overflow_x": null,
            "overflow_y": null,
            "padding": null,
            "right": null,
            "top": null,
            "visibility": null,
            "width": null
          }
        },
        "9e6971844772480e80431d43cf0426a9": {
          "model_module": "@jupyter-widgets/controls",
          "model_name": "DescriptionStyleModel",
          "model_module_version": "1.5.0",
          "state": {
            "_model_module": "@jupyter-widgets/controls",
            "_model_module_version": "1.5.0",
            "_model_name": "DescriptionStyleModel",
            "_view_count": null,
            "_view_module": "@jupyter-widgets/base",
            "_view_module_version": "1.2.0",
            "_view_name": "StyleView",
            "description_width": ""
          }
        }
      }
    },
    "accelerator": "GPU"
  },
  "cells": [
    {
      "cell_type": "markdown",
      "source": [
        "# Imports"
      ],
      "metadata": {
        "id": "PhdWAIk6iBjT"
      }
    },
    {
      "cell_type": "code",
      "source": [
        "from google.colab import drive\n",
        "import os\n",
        "from glob import glob\n",
        "from tqdm.notebook import tqdm\n",
        "from shutil import copy, rmtree\n",
        "import cv2\n",
        "from sklearn.model_selection import train_test_split\n",
        "from torch.utils.data import DataLoader, Dataset\n",
        "from PIL import Image\n",
        "from torchvision import transforms\n",
        "import torch\n",
        "import numpy as np\n",
        "import matplotlib.pyplot as plt\n",
        "from torch import nn\n",
        "from time import time"
      ],
      "metadata": {
        "id": "8STGuCBUiAzL"
      },
      "execution_count": null,
      "outputs": []
    },
    {
      "cell_type": "code",
      "source": [
        "from IPython.display import clear_output\n",
        "!pip install --upgrade kaggle\n",
        "clear_output()\n",
        "from google.colab import files\n",
        "\n",
        "uploaded = files.upload()\n",
        "\n",
        "for fn in uploaded.keys():\n",
        "  print('User uploaded file \"{name}\" with length {length} bytes'.format(\n",
        "      name=fn, length=len(uploaded[fn])))\n",
        "!mkdir -p ~/.kaggle/ && mv kaggle.json ~/.kaggle/ && chmod 600 ~/.kaggle/kaggle.json"
      ],
      "metadata": {
        "colab": {
          "resources": {
            "http://localhost:8080/nbextensions/google.colab/files.js": {
              "data": "Ly8gQ29weXJpZ2h0IDIwMTcgR29vZ2xlIExMQwovLwovLyBMaWNlbnNlZCB1bmRlciB0aGUgQXBhY2hlIExpY2Vuc2UsIFZlcnNpb24gMi4wICh0aGUgIkxpY2Vuc2UiKTsKLy8geW91IG1heSBub3QgdXNlIHRoaXMgZmlsZSBleGNlcHQgaW4gY29tcGxpYW5jZSB3aXRoIHRoZSBMaWNlbnNlLgovLyBZb3UgbWF5IG9idGFpbiBhIGNvcHkgb2YgdGhlIExpY2Vuc2UgYXQKLy8KLy8gICAgICBodHRwOi8vd3d3LmFwYWNoZS5vcmcvbGljZW5zZXMvTElDRU5TRS0yLjAKLy8KLy8gVW5sZXNzIHJlcXVpcmVkIGJ5IGFwcGxpY2FibGUgbGF3IG9yIGFncmVlZCB0byBpbiB3cml0aW5nLCBzb2Z0d2FyZQovLyBkaXN0cmlidXRlZCB1bmRlciB0aGUgTGljZW5zZSBpcyBkaXN0cmlidXRlZCBvbiBhbiAiQVMgSVMiIEJBU0lTLAovLyBXSVRIT1VUIFdBUlJBTlRJRVMgT1IgQ09ORElUSU9OUyBPRiBBTlkgS0lORCwgZWl0aGVyIGV4cHJlc3Mgb3IgaW1wbGllZC4KLy8gU2VlIHRoZSBMaWNlbnNlIGZvciB0aGUgc3BlY2lmaWMgbGFuZ3VhZ2UgZ292ZXJuaW5nIHBlcm1pc3Npb25zIGFuZAovLyBsaW1pdGF0aW9ucyB1bmRlciB0aGUgTGljZW5zZS4KCi8qKgogKiBAZmlsZW92ZXJ2aWV3IEhlbHBlcnMgZm9yIGdvb2dsZS5jb2xhYiBQeXRob24gbW9kdWxlLgogKi8KKGZ1bmN0aW9uKHNjb3BlKSB7CmZ1bmN0aW9uIHNwYW4odGV4dCwgc3R5bGVBdHRyaWJ1dGVzID0ge30pIHsKICBjb25zdCBlbGVtZW50ID0gZG9jdW1lbnQuY3JlYXRlRWxlbWVudCgnc3BhbicpOwogIGVsZW1lbnQudGV4dENvbnRlbnQgPSB0ZXh0OwogIGZvciAoY29uc3Qga2V5IG9mIE9iamVjdC5rZXlzKHN0eWxlQXR0cmlidXRlcykpIHsKICAgIGVsZW1lbnQuc3R5bGVba2V5XSA9IHN0eWxlQXR0cmlidXRlc1trZXldOwogIH0KICByZXR1cm4gZWxlbWVudDsKfQoKLy8gTWF4IG51bWJlciBvZiBieXRlcyB3aGljaCB3aWxsIGJlIHVwbG9hZGVkIGF0IGEgdGltZS4KY29uc3QgTUFYX1BBWUxPQURfU0laRSA9IDEwMCAqIDEwMjQ7CgpmdW5jdGlvbiBfdXBsb2FkRmlsZXMoaW5wdXRJZCwgb3V0cHV0SWQpIHsKICBjb25zdCBzdGVwcyA9IHVwbG9hZEZpbGVzU3RlcChpbnB1dElkLCBvdXRwdXRJZCk7CiAgY29uc3Qgb3V0cHV0RWxlbWVudCA9IGRvY3VtZW50LmdldEVsZW1lbnRCeUlkKG91dHB1dElkKTsKICAvLyBDYWNoZSBzdGVwcyBvbiB0aGUgb3V0cHV0RWxlbWVudCB0byBtYWtlIGl0IGF2YWlsYWJsZSBmb3IgdGhlIG5leHQgY2FsbAogIC8vIHRvIHVwbG9hZEZpbGVzQ29udGludWUgZnJvbSBQeXRob24uCiAgb3V0cHV0RWxlbWVudC5zdGVwcyA9IHN0ZXBzOwoKICByZXR1cm4gX3VwbG9hZEZpbGVzQ29udGludWUob3V0cHV0SWQpOwp9CgovLyBUaGlzIGlzIHJvdWdobHkgYW4gYXN5bmMgZ2VuZXJhdG9yIChub3Qgc3VwcG9ydGVkIGluIHRoZSBicm93c2VyIHlldCksCi8vIHdoZXJlIHRoZXJlIGFyZSBtdWx0aXBsZSBhc3luY2hyb25vdXMgc3RlcHMgYW5kIHRoZSBQeXRob24gc2lkZSBpcyBnb2luZwovLyB0byBwb2xsIGZvciBjb21wbGV0aW9uIG9mIGVhY2ggc3RlcC4KLy8gVGhpcyB1c2VzIGEgUHJvbWlzZSB0byBibG9jayB0aGUgcHl0aG9uIHNpZGUgb24gY29tcGxldGlvbiBvZiBlYWNoIHN0ZXAsCi8vIHRoZW4gcGFzc2VzIHRoZSByZXN1bHQgb2YgdGhlIHByZXZpb3VzIHN0ZXAgYXMgdGhlIGlucHV0IHRvIHRoZSBuZXh0IHN0ZXAuCmZ1bmN0aW9uIF91cGxvYWRGaWxlc0NvbnRpbnVlKG91dHB1dElkKSB7CiAgY29uc3Qgb3V0cHV0RWxlbWVudCA9IGRvY3VtZW50LmdldEVsZW1lbnRCeUlkKG91dHB1dElkKTsKICBjb25zdCBzdGVwcyA9IG91dHB1dEVsZW1lbnQuc3RlcHM7CgogIGNvbnN0IG5leHQgPSBzdGVwcy5uZXh0KG91dHB1dEVsZW1lbnQubGFzdFByb21pc2VWYWx1ZSk7CiAgcmV0dXJuIFByb21pc2UucmVzb2x2ZShuZXh0LnZhbHVlLnByb21pc2UpLnRoZW4oKHZhbHVlKSA9PiB7CiAgICAvLyBDYWNoZSB0aGUgbGFzdCBwcm9taXNlIHZhbHVlIHRvIG1ha2UgaXQgYXZhaWxhYmxlIHRvIHRoZSBuZXh0CiAgICAvLyBzdGVwIG9mIHRoZSBnZW5lcmF0b3IuCiAgICBvdXRwdXRFbGVtZW50Lmxhc3RQcm9taXNlVmFsdWUgPSB2YWx1ZTsKICAgIHJldHVybiBuZXh0LnZhbHVlLnJlc3BvbnNlOwogIH0pOwp9CgovKioKICogR2VuZXJhdG9yIGZ1bmN0aW9uIHdoaWNoIGlzIGNhbGxlZCBiZXR3ZWVuIGVhY2ggYXN5bmMgc3RlcCBvZiB0aGUgdXBsb2FkCiAqIHByb2Nlc3MuCiAqIEBwYXJhbSB7c3RyaW5nfSBpbnB1dElkIEVsZW1lbnQgSUQgb2YgdGhlIGlucHV0IGZpbGUgcGlja2VyIGVsZW1lbnQuCiAqIEBwYXJhbSB7c3RyaW5nfSBvdXRwdXRJZCBFbGVtZW50IElEIG9mIHRoZSBvdXRwdXQgZGlzcGxheS4KICogQHJldHVybiB7IUl0ZXJhYmxlPCFPYmplY3Q+fSBJdGVyYWJsZSBvZiBuZXh0IHN0ZXBzLgogKi8KZnVuY3Rpb24qIHVwbG9hZEZpbGVzU3RlcChpbnB1dElkLCBvdXRwdXRJZCkgewogIGNvbnN0IGlucHV0RWxlbWVudCA9IGRvY3VtZW50LmdldEVsZW1lbnRCeUlkKGlucHV0SWQpOwogIGlucHV0RWxlbWVudC5kaXNhYmxlZCA9IGZhbHNlOwoKICBjb25zdCBvdXRwdXRFbGVtZW50ID0gZG9jdW1lbnQuZ2V0RWxlbWVudEJ5SWQob3V0cHV0SWQpOwogIG91dHB1dEVsZW1lbnQuaW5uZXJIVE1MID0gJyc7CgogIGNvbnN0IHBpY2tlZFByb21pc2UgPSBuZXcgUHJvbWlzZSgocmVzb2x2ZSkgPT4gewogICAgaW5wdXRFbGVtZW50LmFkZEV2ZW50TGlzdGVuZXIoJ2NoYW5nZScsIChlKSA9PiB7CiAgICAgIHJlc29sdmUoZS50YXJnZXQuZmlsZXMpOwogICAgfSk7CiAgfSk7CgogIGNvbnN0IGNhbmNlbCA9IGRvY3VtZW50LmNyZWF0ZUVsZW1lbnQoJ2J1dHRvbicpOwogIGlucHV0RWxlbWVudC5wYXJlbnRFbGVtZW50LmFwcGVuZENoaWxkKGNhbmNlbCk7CiAgY2FuY2VsLnRleHRDb250ZW50ID0gJ0NhbmNlbCB1cGxvYWQnOwogIGNvbnN0IGNhbmNlbFByb21pc2UgPSBuZXcgUHJvbWlzZSgocmVzb2x2ZSkgPT4gewogICAgY2FuY2VsLm9uY2xpY2sgPSAoKSA9PiB7CiAgICAgIHJlc29sdmUobnVsbCk7CiAgICB9OwogIH0pOwoKICAvLyBXYWl0IGZvciB0aGUgdXNlciB0byBwaWNrIHRoZSBmaWxlcy4KICBjb25zdCBmaWxlcyA9IHlpZWxkIHsKICAgIHByb21pc2U6IFByb21pc2UucmFjZShbcGlja2VkUHJvbWlzZSwgY2FuY2VsUHJvbWlzZV0pLAogICAgcmVzcG9uc2U6IHsKICAgICAgYWN0aW9uOiAnc3RhcnRpbmcnLAogICAgfQogIH07CgogIGNhbmNlbC5yZW1vdmUoKTsKCiAgLy8gRGlzYWJsZSB0aGUgaW5wdXQgZWxlbWVudCBzaW5jZSBmdXJ0aGVyIHBpY2tzIGFyZSBub3QgYWxsb3dlZC4KICBpbnB1dEVsZW1lbnQuZGlzYWJsZWQgPSB0cnVlOwoKICBpZiAoIWZpbGVzKSB7CiAgICByZXR1cm4gewogICAgICByZXNwb25zZTogewogICAgICAgIGFjdGlvbjogJ2NvbXBsZXRlJywKICAgICAgfQogICAgfTsKICB9CgogIGZvciAoY29uc3QgZmlsZSBvZiBmaWxlcykgewogICAgY29uc3QgbGkgPSBkb2N1bWVudC5jcmVhdGVFbGVtZW50KCdsaScpOwogICAgbGkuYXBwZW5kKHNwYW4oZmlsZS5uYW1lLCB7Zm9udFdlaWdodDogJ2JvbGQnfSkpOwogICAgbGkuYXBwZW5kKHNwYW4oCiAgICAgICAgYCgke2ZpbGUudHlwZSB8fCAnbi9hJ30pIC0gJHtmaWxlLnNpemV9IGJ5dGVzLCBgICsKICAgICAgICBgbGFzdCBtb2RpZmllZDogJHsKICAgICAgICAgICAgZmlsZS5sYXN0TW9kaWZpZWREYXRlID8gZmlsZS5sYXN0TW9kaWZpZWREYXRlLnRvTG9jYWxlRGF0ZVN0cmluZygpIDoKICAgICAgICAgICAgICAgICAgICAgICAgICAgICAgICAgICAgJ24vYSd9IC0gYCkpOwogICAgY29uc3QgcGVyY2VudCA9IHNwYW4oJzAlIGRvbmUnKTsKICAgIGxpLmFwcGVuZENoaWxkKHBlcmNlbnQpOwoKICAgIG91dHB1dEVsZW1lbnQuYXBwZW5kQ2hpbGQobGkpOwoKICAgIGNvbnN0IGZpbGVEYXRhUHJvbWlzZSA9IG5ldyBQcm9taXNlKChyZXNvbHZlKSA9PiB7CiAgICAgIGNvbnN0IHJlYWRlciA9IG5ldyBGaWxlUmVhZGVyKCk7CiAgICAgIHJlYWRlci5vbmxvYWQgPSAoZSkgPT4gewogICAgICAgIHJlc29sdmUoZS50YXJnZXQucmVzdWx0KTsKICAgICAgfTsKICAgICAgcmVhZGVyLnJlYWRBc0FycmF5QnVmZmVyKGZpbGUpOwogICAgfSk7CiAgICAvLyBXYWl0IGZvciB0aGUgZGF0YSB0byBiZSByZWFkeS4KICAgIGxldCBmaWxlRGF0YSA9IHlpZWxkIHsKICAgICAgcHJvbWlzZTogZmlsZURhdGFQcm9taXNlLAogICAgICByZXNwb25zZTogewogICAgICAgIGFjdGlvbjogJ2NvbnRpbnVlJywKICAgICAgfQogICAgfTsKCiAgICAvLyBVc2UgYSBjaHVua2VkIHNlbmRpbmcgdG8gYXZvaWQgbWVzc2FnZSBzaXplIGxpbWl0cy4gU2VlIGIvNjIxMTU2NjAuCiAgICBsZXQgcG9zaXRpb24gPSAwOwogICAgZG8gewogICAgICBjb25zdCBsZW5ndGggPSBNYXRoLm1pbihmaWxlRGF0YS5ieXRlTGVuZ3RoIC0gcG9zaXRpb24sIE1BWF9QQVlMT0FEX1NJWkUpOwogICAgICBjb25zdCBjaHVuayA9IG5ldyBVaW50OEFycmF5KGZpbGVEYXRhLCBwb3NpdGlvbiwgbGVuZ3RoKTsKICAgICAgcG9zaXRpb24gKz0gbGVuZ3RoOwoKICAgICAgY29uc3QgYmFzZTY0ID0gYnRvYShTdHJpbmcuZnJvbUNoYXJDb2RlLmFwcGx5KG51bGwsIGNodW5rKSk7CiAgICAgIHlpZWxkIHsKICAgICAgICByZXNwb25zZTogewogICAgICAgICAgYWN0aW9uOiAnYXBwZW5kJywKICAgICAgICAgIGZpbGU6IGZpbGUubmFtZSwKICAgICAgICAgIGRhdGE6IGJhc2U2NCwKICAgICAgICB9LAogICAgICB9OwoKICAgICAgbGV0IHBlcmNlbnREb25lID0gZmlsZURhdGEuYnl0ZUxlbmd0aCA9PT0gMCA/CiAgICAgICAgICAxMDAgOgogICAgICAgICAgTWF0aC5yb3VuZCgocG9zaXRpb24gLyBmaWxlRGF0YS5ieXRlTGVuZ3RoKSAqIDEwMCk7CiAgICAgIHBlcmNlbnQudGV4dENvbnRlbnQgPSBgJHtwZXJjZW50RG9uZX0lIGRvbmVgOwoKICAgIH0gd2hpbGUgKHBvc2l0aW9uIDwgZmlsZURhdGEuYnl0ZUxlbmd0aCk7CiAgfQoKICAvLyBBbGwgZG9uZS4KICB5aWVsZCB7CiAgICByZXNwb25zZTogewogICAgICBhY3Rpb246ICdjb21wbGV0ZScsCiAgICB9CiAgfTsKfQoKc2NvcGUuZ29vZ2xlID0gc2NvcGUuZ29vZ2xlIHx8IHt9OwpzY29wZS5nb29nbGUuY29sYWIgPSBzY29wZS5nb29nbGUuY29sYWIgfHwge307CnNjb3BlLmdvb2dsZS5jb2xhYi5fZmlsZXMgPSB7CiAgX3VwbG9hZEZpbGVzLAogIF91cGxvYWRGaWxlc0NvbnRpbnVlLAp9Owp9KShzZWxmKTsK",
              "ok": true,
              "headers": [
                [
                  "content-type",
                  "application/javascript"
                ]
              ],
              "status": 200,
              "status_text": ""
            }
          },
          "base_uri": "https://localhost:8080/",
          "height": 91
        },
        "id": "jNFZwXWcDMYl",
        "outputId": "97cd0e1b-0fcc-42e7-e915-fc23120ee5fd"
      },
      "execution_count": null,
      "outputs": [
        {
          "output_type": "display_data",
          "data": {
            "text/plain": [
              "<IPython.core.display.HTML object>"
            ],
            "text/html": [
              "\n",
              "     <input type=\"file\" id=\"files-60e97adc-7a79-447a-b829-ab78a96e7198\" name=\"files[]\" multiple disabled\n",
              "        style=\"border:none\" />\n",
              "     <output id=\"result-60e97adc-7a79-447a-b829-ab78a96e7198\">\n",
              "      Upload widget is only available when the cell has been executed in the\n",
              "      current browser session. Please rerun this cell to enable.\n",
              "      </output>\n",
              "      <script src=\"/nbextensions/google.colab/files.js\"></script> "
            ]
          },
          "metadata": {}
        },
        {
          "output_type": "stream",
          "name": "stdout",
          "text": [
            "Saving kaggle.json to kaggle.json\n",
            "User uploaded file \"kaggle.json\" with length 65 bytes\n"
          ]
        }
      ]
    },
    {
      "cell_type": "code",
      "source": [
        "!kaggle competitions download -c dogs-vs-cats-redux-kernels-edition"
      ],
      "metadata": {
        "colab": {
          "base_uri": "https://localhost:8080/"
        },
        "id": "U4KKXKM0DVPn",
        "outputId": "f2088ffa-cff4-40be-8e51-dfdf7b22ac3b"
      },
      "execution_count": null,
      "outputs": [
        {
          "output_type": "stream",
          "name": "stdout",
          "text": [
            "Downloading dogs-vs-cats-redux-kernels-edition.zip to /content\n",
            " 97% 788M/814M [00:02<00:00, 316MB/s]\n",
            "100% 814M/814M [00:02<00:00, 306MB/s]\n"
          ]
        }
      ]
    },
    {
      "cell_type": "code",
      "source": [
        "!unzip -qx /content/dogs-vs-cats-redux-kernels-edition.zip"
      ],
      "metadata": {
        "id": "M3eO1Tq2DlAO"
      },
      "execution_count": null,
      "outputs": []
    },
    {
      "cell_type": "code",
      "source": [
        "!unzip -qx /content/train.zip"
      ],
      "metadata": {
        "id": "1JKE-n8nDp3f"
      },
      "execution_count": null,
      "outputs": []
    },
    {
      "cell_type": "markdown",
      "source": [
        "# Prepared Data"
      ],
      "metadata": {
        "id": "cP-lugxFhiWE"
      }
    },
    {
      "cell_type": "code",
      "source": [
        "all_dogs = glob('/content/train/*cat*')\n",
        "all_cats = glob('/content/train/*dog*')\n",
        "\n",
        "print('Count of all dogs: ' ,len(all_dogs))\n",
        "print('Count of all cats: ' ,len(all_cats))"
      ],
      "metadata": {
        "colab": {
          "base_uri": "https://localhost:8080/"
        },
        "id": "G67JSh8P6iPS",
        "outputId": "15887976-c7ec-4aa2-b7e7-0acaab48443b"
      },
      "execution_count": null,
      "outputs": [
        {
          "output_type": "stream",
          "name": "stdout",
          "text": [
            "Count of all dogs:  12500\n",
            "Count of all cats:  12500\n"
          ]
        }
      ]
    },
    {
      "cell_type": "code",
      "source": [
        "all_images=glob('/content/train/*')\n",
        "len(all_images)"
      ],
      "metadata": {
        "colab": {
          "base_uri": "https://localhost:8080/"
        },
        "id": "3Uu4xIHjo2ih",
        "outputId": "7796c7b1-e7fd-4257-e873-c3089ddb0ba2"
      },
      "execution_count": null,
      "outputs": [
        {
          "output_type": "execute_result",
          "data": {
            "text/plain": [
              "25000"
            ]
          },
          "metadata": {},
          "execution_count": 7
        }
      ]
    },
    {
      "cell_type": "code",
      "source": [
        "t=0\n",
        "for img in all_images:\n",
        "  img_read = cv2.imread(img, cv2.IMREAD_UNCHANGED)\n",
        "  if img_read is None:\n",
        "    t+=1\n",
        "print(t)"
      ],
      "metadata": {
        "colab": {
          "base_uri": "https://localhost:8080/"
        },
        "id": "zZa_scsHpW4I",
        "outputId": "616cbe9c-2047-4bee-f91a-3913a258408c"
      },
      "execution_count": null,
      "outputs": [
        {
          "output_type": "stream",
          "name": "stdout",
          "text": [
            "0\n"
          ]
        }
      ]
    },
    {
      "cell_type": "code",
      "source": [
        "train_dir = '/content/cats-v-dogs/training/'\n",
        "test_dir = '/content/cats-v-dogs/testing/'\n",
        "to_create = [train_dir,test_dir]\n",
        "for dir in to_create:\n",
        "  os.makedirs(dir,exist_ok=True)"
      ],
      "metadata": {
        "id": "BzTnbfi30u6W"
      },
      "execution_count": null,
      "outputs": []
    },
    {
      "cell_type": "code",
      "source": [
        "training_images, testing_images = train_test_split(all_images,test_size=0.1,random_state=101)\n",
        "print(len(training_images))\n",
        "print(len(testing_images))"
      ],
      "metadata": {
        "colab": {
          "base_uri": "https://localhost:8080/"
        },
        "id": "Qc53SwpK043E",
        "outputId": "a8238308-29fa-4f1d-de70-8e701c209feb"
      },
      "execution_count": null,
      "outputs": [
        {
          "output_type": "stream",
          "name": "stdout",
          "text": [
            "22500\n",
            "2500\n"
          ]
        }
      ]
    },
    {
      "cell_type": "code",
      "source": [
        "testing_images[0]"
      ],
      "metadata": {
        "colab": {
          "base_uri": "https://localhost:8080/",
          "height": 36
        },
        "id": "9LfU1PPy7GMu",
        "outputId": "8eab5fee-fdc7-4ec1-ce5b-33f969c0fb13"
      },
      "execution_count": null,
      "outputs": [
        {
          "output_type": "execute_result",
          "data": {
            "text/plain": [
              "'/content/train/dog.6774.jpg'"
            ],
            "application/vnd.google.colaboratory.intrinsic+json": {
              "type": "string"
            }
          },
          "metadata": {},
          "execution_count": 11
        }
      ]
    },
    {
      "cell_type": "code",
      "source": [
        "print(train_dir)\n",
        "for name in tqdm(training_images):\n",
        "     copy(name , os.path.join(train_dir , name.split('/')[-1]))\n",
        "print(test_dir)\n",
        "for name in tqdm(testing_images):\n",
        "      copy(name , os.path.join(test_dir , name.split('/')[-1]))"
      ],
      "metadata": {
        "colab": {
          "base_uri": "https://localhost:8080/",
          "height": 116,
          "referenced_widgets": [
            "9281540935d14d46a3e196662a34ec59",
            "310b9cca27b44af08fd7760ed4c0975d",
            "cd2c03a770224760980c7b16c9d41eca",
            "2242fa33665c4aad8896495c5b815a16",
            "a60386b06e8a403bb94e9408b3a49943",
            "4ff30ef9cf264a46b03cf2e585937d8c",
            "c374466b51da4322aeae3034d2d7a697",
            "986fcf894bfd458f96474cd5b6fe0e76",
            "df0c5e53d2094e3fa470576de277bfcf",
            "1d1d0c08b3724f16a55970d6b7ce844d",
            "0740b2fed2d246d9bef82dfe596e71a7",
            "bb129ae1bdd947948c3b0c51cfd11542",
            "8c693ece91c14edc9751f4ba2fa575f4",
            "686462593eab49d38965997e4760a813",
            "4834d0670e4441e786593e68eb2c7062",
            "e0fd89e0456c46398f4e280c9c17834a",
            "de353e6e3b19428090560e8ae06d2875",
            "e7f6653acd4f452995f3563fd00af851",
            "ef21db93143946008f4b2adaa00b2802",
            "712bd63b9e45456e899a41d46a321450",
            "6df81e0350eb4af4bd051dcb17a20218",
            "9e6971844772480e80431d43cf0426a9"
          ]
        },
        "id": "rSTWZ78B1F6a",
        "outputId": "0b69e640-57fd-48a8-d16c-7ab6a73907bc"
      },
      "execution_count": null,
      "outputs": [
        {
          "output_type": "stream",
          "name": "stdout",
          "text": [
            "/content/cats-v-dogs/training/\n"
          ]
        },
        {
          "output_type": "display_data",
          "data": {
            "text/plain": [
              "  0%|          | 0/22500 [00:00<?, ?it/s]"
            ],
            "application/vnd.jupyter.widget-view+json": {
              "version_major": 2,
              "version_minor": 0,
              "model_id": "9281540935d14d46a3e196662a34ec59"
            }
          },
          "metadata": {}
        },
        {
          "output_type": "stream",
          "name": "stdout",
          "text": [
            "/content/cats-v-dogs/testing/\n"
          ]
        },
        {
          "output_type": "display_data",
          "data": {
            "text/plain": [
              "  0%|          | 0/2500 [00:00<?, ?it/s]"
            ],
            "application/vnd.jupyter.widget-view+json": {
              "version_major": 2,
              "version_minor": 0,
              "model_id": "bb129ae1bdd947948c3b0c51cfd11542"
            }
          },
          "metadata": {}
        }
      ]
    },
    {
      "cell_type": "markdown",
      "source": [
        "# Create Dataset"
      ],
      "metadata": {
        "id": "S1hdCnfu1k3A"
      }
    },
    {
      "cell_type": "code",
      "source": [
        "# Dataset\n",
        "class CatsDogs(Dataset):\n",
        "  def __init__(self, directory = '/content/cats-v-dogs/testing' , transform = None):\n",
        "    super().__init__()\n",
        "    self.names = glob(directory+'/*.jpg')[:]\n",
        "    self.labels = []\n",
        "    self.transform = transform\n",
        "    \n",
        "    for name in self.names: \n",
        "      if 'cat.' in name:\n",
        "        self.labels.append(0)\n",
        "      else:\n",
        "        self.labels.append(1)\n",
        "    self.labels = torch.tensor(self.labels, dtype = torch.float32)\n",
        "    self.labels = torch.unsqueeze(self.labels, 1)\n",
        "\n",
        "  def __len__(self):\n",
        "    return len(self.names)\n",
        "  \n",
        "  def __getitem__(self, idx):\n",
        "    x = Image.open(self.names[idx])\n",
        "    x = self.transform(x) \n",
        "    y = self.labels[idx]\n",
        "    return x,y"
      ],
      "metadata": {
        "id": "1VLL3Eg11VjK"
      },
      "execution_count": null,
      "outputs": []
    },
    {
      "cell_type": "code",
      "source": [
        "train_transforms = transforms.Compose([transforms.ToTensor(),\n",
        "                                       transforms.Resize((160,160)),\n",
        "                                       transforms.Normalize(mean=([0.485, 0.456, 0.406]),std=([0.229, 0.224, 0.225])),\n",
        "                                       transforms.RandomRotation(2.8),\n",
        "                                       ])\n",
        "\n",
        "test_transforms = transforms.Compose([transforms.ToTensor(),\n",
        "                                      transforms.Resize((160,160)),\n",
        "                                      transforms.Normalize(mean=([0.485, 0.456, 0.406]),std=([0.229, 0.224, 0.225]))\n",
        "                                      ])"
      ],
      "metadata": {
        "id": "tOGsf2b_2E0w"
      },
      "execution_count": null,
      "outputs": []
    },
    {
      "cell_type": "code",
      "source": [
        "train_dataset = CatsDogs(directory='/content/cats-v-dogs/training',transform=train_transforms)\n",
        "test_dataset = CatsDogs(directory='/content/cats-v-dogs/testing',transform=test_transforms)\n",
        "train_loader = DataLoader(train_dataset,num_workers=2,batch_size=64)\n",
        "test_loader = DataLoader(test_dataset,num_workers=2,batch_size=64)"
      ],
      "metadata": {
        "id": "q60Vyl642dGJ"
      },
      "execution_count": null,
      "outputs": []
    },
    {
      "cell_type": "code",
      "source": [
        "train_loader_it = iter(train_loader)\n",
        "test_loader_it=iter(test_loader)"
      ],
      "metadata": {
        "id": "m3PbG9M93PGw"
      },
      "execution_count": null,
      "outputs": []
    },
    {
      "cell_type": "code",
      "source": [
        "print(next(train_loader_it)[0].shape)\n",
        "print(next(train_loader_it)[1].shape)"
      ],
      "metadata": {
        "colab": {
          "base_uri": "https://localhost:8080/"
        },
        "id": "PT8fgms33PxI",
        "outputId": "0283e941-a2cb-4e5e-ecf0-451bdf9f046e"
      },
      "execution_count": null,
      "outputs": [
        {
          "output_type": "stream",
          "name": "stdout",
          "text": [
            "torch.Size([64, 3, 160, 160])\n",
            "torch.Size([64, 1])\n"
          ]
        }
      ]
    },
    {
      "cell_type": "markdown",
      "source": [
        "#Create Model"
      ],
      "metadata": {
        "id": "cx0nfeC73ago"
      }
    },
    {
      "cell_type": "code",
      "source": [
        "class My_Classifier(nn.Module):\n",
        "  def __init__(self):\n",
        "    super().__init__()\n",
        "    self.conv1=nn.Conv2d(in_channels=3,out_channels=16,kernel_size=3)\n",
        "    self.conv2=nn.Conv2d(in_channels=16,out_channels=20,kernel_size=3)\n",
        "\n",
        "    self.conv3=nn.Conv2d(in_channels=20,out_channels=28,kernel_size=3)\n",
        "    self.conv4=nn.Conv2d(in_channels=28,out_channels=32,kernel_size=3)\n",
        "\n",
        "    self.conv5=nn.Conv2d(in_channels=32,out_channels=32,kernel_size=3)\n",
        "    self.conv6=nn.Conv2d(in_channels=32,out_channels=64,kernel_size=3)\n",
        "\n",
        "    self.relu=nn.ReLU()\n",
        "    self.maxpool=nn.MaxPool2d(2)\n",
        "    self.flatten=nn.Flatten()\n",
        "    self.sigmoid=nn.Sigmoid()\n",
        "    self.dropout=nn.Dropout2d(0.2)\n",
        "\n",
        "    self.fc1=nn.Linear(in_features=16384,out_features=32)\n",
        "    self.fc2=nn.Linear(in_features=32,out_features=1)\n",
        "\n",
        "\n",
        "  def forward(self, input):\n",
        "    # print(input.shape)\n",
        "    y=self.conv1(input)\n",
        "    y=self.relu(y)\n",
        "    y=self.conv2(y)\n",
        "    y=self.relu(y)\n",
        "    y=self.maxpool(y)\n",
        "    y=self.dropout(y)\n",
        "    # print(y.shape)\n",
        "\n",
        "    y=self.conv3(y)\n",
        "    y=self.relu(y)\n",
        "    y=self.conv4(y)\n",
        "    y=self.relu(y)\n",
        "    y=self.maxpool(y)\n",
        "    y=self.dropout(y)\n",
        "    # print(y.shape)\n",
        "\n",
        "    y=self.conv5(y)\n",
        "    y=self.relu(y)\n",
        "    y=self.conv6(y)\n",
        "    y=self.relu(y)\n",
        "    y=self.maxpool(y)\n",
        "    y=self.dropout(y)\n",
        "    # print(y.shape)\n",
        "\n",
        "    y=self.flatten(y)\n",
        "    # print(y.shape)\n",
        "\n",
        "    y=self.fc1(y)\n",
        "    y=self.relu(y)\n",
        "    y=self.fc2(y)\n",
        "    # y=self.sigmoid(y)\n",
        "    # print(y.shape)\n",
        "    # print(y)\n",
        "\n",
        "    return(y)"
      ],
      "metadata": {
        "id": "00TLU-Y53WZC"
      },
      "execution_count": null,
      "outputs": []
    },
    {
      "cell_type": "code",
      "source": [
        "model=My_Classifier().forward(next(train_loader_it)[0])\n",
        "x = torch.randn(1, 3, 160, 160)\n",
        "My_Classifier().forward(x)\n"
      ],
      "metadata": {
        "colab": {
          "base_uri": "https://localhost:8080/"
        },
        "id": "53ebBAYd4RZr",
        "outputId": "033ab8b7-8846-4d1b-9838-4e02e1a44ef6"
      },
      "execution_count": null,
      "outputs": [
        {
          "output_type": "execute_result",
          "data": {
            "text/plain": [
              "tensor([[0.0888]], grad_fn=<AddmmBackward0>)"
            ]
          },
          "metadata": {},
          "execution_count": 19
        }
      ]
    },
    {
      "cell_type": "markdown",
      "source": [
        "# Train Model"
      ],
      "metadata": {
        "id": "YJyhAY5h4oVp"
      }
    },
    {
      "cell_type": "code",
      "source": [
        "device = ('cuda' if torch.cuda.is_available else 'CPU')\n",
        "mymodel = My_Classifier().to(device)\n",
        "print(device)"
      ],
      "metadata": {
        "colab": {
          "base_uri": "https://localhost:8080/"
        },
        "id": "U3hIagpq4WsD",
        "outputId": "424d6aaf-ca1b-46da-9f42-8e6e0ed45551"
      },
      "execution_count": null,
      "outputs": [
        {
          "output_type": "stream",
          "name": "stdout",
          "text": [
            "cuda\n"
          ]
        }
      ]
    },
    {
      "cell_type": "code",
      "source": [
        "sigmoid=nn.Sigmoid()\n",
        "def binary_acc(y_pred, y_test):\n",
        "    y_p=torch.tensor([1 if sigmoid(p)>=0.5 else 0 for p in y_pred]).to(device)\n",
        "    correct_results_sum=(y_p==y_test).sum().float(\n",
        "    return correct_results_sum.item()"
      ],
      "metadata": {
        "id": "IiEVgTIP4npO"
      },
      "execution_count": null,
      "outputs": []
    },
    {
      "cell_type": "code",
      "source": [
        "epochs = 30\n",
        "criterion = nn.BCEWithLogitsLoss()\n",
        "opt = torch.optim.Adam(mymodel.parameters())\n",
        "losses = [] \n",
        "val_losses = []\n",
        "train_accuracy = []\n",
        "val_accuracy = []"
      ],
      "metadata": {
        "id": "-DVO2cRM4-nv"
      },
      "execution_count": null,
      "outputs": []
    },
    {
      "cell_type": "code",
      "source": [
        "for epoch in range(epochs):\n",
        "  ##train model##\n",
        "  tic=time()\n",
        "  mymodel.train()\n",
        "  batch_loss=[]\n",
        "  batch_acc=0\n",
        "  for batch in train_loader:\n",
        "    x=batch[0].to(device)\n",
        "    y=batch[1].to(device)\n",
        "    # print(x.shape)\n",
        "    y_pred=mymodel.forward(x)\n",
        "    opt.zero_grad()\n",
        "    loss=criterion(y_pred,y)\n",
        "    loss.backward()\n",
        "    opt.step()\n",
        "    batch_loss.append(loss.item())\n",
        "    batch_acc += binary_acc(y_pred,y)\n",
        "\n",
        "  losses.append(np.mean(batch_loss)) \n",
        "\n",
        "  train_accuracy.append((batch_acc/len(train_dataset)))\n",
        "  ##eval model##\n",
        "  mymodel.eval()\n",
        "  batch_loss=[]\n",
        "  batch_acc=0\n",
        "  for batch in test_loader:\n",
        "    x=batch[0].to(device)\n",
        "    y=batch[1].to(device)\n",
        "    y_pred=mymodel.forward(x)\n",
        "    with torch.no_grad():\n",
        "       loss=criterion(y_pred,y)\n",
        "       batch_loss.append(loss.item())\n",
        "       batch_acc+=binary_acc(y_pred,y)\n",
        "  \n",
        "  val_losses.append(np.mean(batch_loss))\n",
        "  val_accuracy.append((batch_acc/len(test_dataset)))\n",
        "  toc=time()\n",
        "  time_epoch=toc-tic\n",
        "  print(f'Epoch {epoch}, loss : {losses[-1]}, accuracy : {train_accuracy[-1]}, val_loss : {val_losses[-1]}, val_accuracy : {val_accuracy[-1]}, time : {time_epoch}')\n",
        "\n",
        "   \n"
      ],
      "metadata": {
        "id": "MLcZGpVt44Fe",
        "colab": {
          "base_uri": "https://localhost:8080/"
        },
        "outputId": "67263fc5-7b91-4adb-d5b9-3b25e3ca08a2"
      },
      "execution_count": null,
      "outputs": [
        {
          "output_type": "stream",
          "name": "stdout",
          "text": [
            "Epoch 0, loss : 0.6536174101585691, accuracy : 32.10355555555556, val_loss : 0.5736624121665954, val_accuracy : 32.2104, time : 117.36808514595032\n",
            "Epoch 1, loss : 0.5683829522776332, accuracy : 32.129244444444446, val_loss : 0.4983791820704937, val_accuracy : 32.2896, time : 109.56127309799194\n",
            "Epoch 2, loss : 0.5137773333117366, accuracy : 32.19573333333334, val_loss : 0.45881864577531817, val_accuracy : 32.3136, time : 111.69301867485046\n",
            "Epoch 3, loss : 0.4692081180824475, accuracy : 32.21991111111111, val_loss : 0.42488099038600924, val_accuracy : 32.38, time : 110.78983449935913\n",
            "Epoch 4, loss : 0.43080285885794595, accuracy : 32.25697777777778, val_loss : 0.4005224458873272, val_accuracy : 32.3, time : 111.06730437278748\n",
            "Epoch 5, loss : 0.39398763616654003, accuracy : 32.26791111111111, val_loss : 0.37857292853295804, val_accuracy : 32.3528, time : 112.0330536365509\n",
            "Epoch 6, loss : 0.3647665040652183, accuracy : 32.31413333333333, val_loss : 0.3715174371376634, val_accuracy : 32.3264, time : 111.6935350894928\n",
            "Epoch 7, loss : 0.34208225035531953, accuracy : 32.318488888888886, val_loss : 0.3574534520506859, val_accuracy : 32.3208, time : 110.45438313484192\n",
            "Epoch 8, loss : 0.31647184220227326, accuracy : 32.30115555555555, val_loss : 0.3477665513753891, val_accuracy : 32.332, time : 111.39617657661438\n",
            "Epoch 9, loss : 0.30149679990823974, accuracy : 32.34142222222222, val_loss : 0.3327713915146887, val_accuracy : 32.3288, time : 110.95379304885864\n",
            "Epoch 10, loss : 0.2800668700682846, accuracy : 32.30088888888889, val_loss : 0.3807378526777029, val_accuracy : 32.3528, time : 109.10631728172302\n",
            "Epoch 11, loss : 0.26563971546817233, accuracy : 32.346222222222224, val_loss : 0.34568289667367935, val_accuracy : 32.34, time : 110.11747312545776\n",
            "Epoch 12, loss : 0.2442632457241416, accuracy : 32.355022222222225, val_loss : 0.36261515878140926, val_accuracy : 32.2832, time : 110.48411583900452\n",
            "Epoch 13, loss : 0.236393409230831, accuracy : 32.36551111111111, val_loss : 0.36172172874212266, val_accuracy : 32.3288, time : 110.00371503829956\n",
            "Epoch 14, loss : 0.2182715943675827, accuracy : 32.38684444444444, val_loss : 0.3762133190408349, val_accuracy : 32.356, time : 110.11637854576111\n",
            "Epoch 15, loss : 0.20892129150557925, accuracy : 32.388888888888886, val_loss : 0.35073969908989966, val_accuracy : 32.3792, time : 110.32623171806335\n",
            "Epoch 16, loss : 0.19335814504037527, accuracy : 32.41137777777778, val_loss : 0.4070150624960661, val_accuracy : 32.3368, time : 109.5319619178772\n",
            "Epoch 17, loss : 0.1841525151605972, accuracy : 32.42702222222222, val_loss : 0.41726492112502456, val_accuracy : 32.3728, time : 109.87184810638428\n",
            "Epoch 18, loss : 0.18007762761871246, accuracy : 32.40764444444444, val_loss : 0.39104545302689075, val_accuracy : 32.336, time : 108.41315412521362\n",
            "Epoch 19, loss : 0.1692928800740364, accuracy : 32.403555555555556, val_loss : 0.394822395965457, val_accuracy : 32.3464, time : 109.42736792564392\n",
            "Epoch 20, loss : 0.1571716231780804, accuracy : 32.416266666666665, val_loss : 0.4214619159698486, val_accuracy : 32.3208, time : 109.52031087875366\n",
            "Epoch 21, loss : 0.1473085778257386, accuracy : 32.4368, val_loss : 0.4520769488066435, val_accuracy : 32.296, time : 108.2189793586731\n",
            "Epoch 22, loss : 0.13818701403744688, accuracy : 32.429066666666664, val_loss : 0.44020544923841953, val_accuracy : 32.3552, time : 111.40839266777039\n",
            "Epoch 23, loss : 0.13513750333169644, accuracy : 32.42124444444445, val_loss : 0.49421778600662947, val_accuracy : 32.3512, time : 110.7941665649414\n",
            "Epoch 24, loss : 0.13140006369741802, accuracy : 32.43066666666667, val_loss : 0.4838861981406808, val_accuracy : 32.3264, time : 111.09909319877625\n",
            "Epoch 25, loss : 0.11762518792370842, accuracy : 32.43688888888889, val_loss : 0.4590891067869961, val_accuracy : 32.308, time : 108.70024394989014\n",
            "Epoch 26, loss : 0.11137946668631313, accuracy : 32.41831111111111, val_loss : 0.4831576005439274, val_accuracy : 32.3632, time : 109.58463454246521\n",
            "Epoch 27, loss : 0.10877947420125235, accuracy : 32.44488888888889, val_loss : 0.5218513024970889, val_accuracy : 32.3464, time : 108.15156960487366\n",
            "Epoch 28, loss : 0.10925224199573594, accuracy : 32.434222222222225, val_loss : 0.48962546335533264, val_accuracy : 32.3352, time : 107.63772010803223\n",
            "Epoch 29, loss : 0.1032415081281215, accuracy : 32.45084444444444, val_loss : 0.5184773221844807, val_accuracy : 32.3168, time : 111.70905756950378\n"
          ]
        }
      ]
    }
  ]
}